{
 "cells": [
  {
   "cell_type": "markdown",
   "metadata": {},
   "source": [
    "# Bank Marketing Data Set \n",
    "\n",
    "The data is related with direct marketing campaigns of a Portuguese banking institution. The marketing campaigns were based on phone calls. Often, more than one contact to the same client was required, in order to access if the product (bank term deposit) would be ('yes') or not ('no') subscribed.\n",
    "\n",
    "#### The classification goal is to predict if the client will subscribe (yes/no) a term deposit (variable y)."
   ]
  },
  {
   "cell_type": "markdown",
   "metadata": {},
   "source": [
    "### Attribute Information:\n",
    "Input variables:\n",
    "### bank client data:\n",
    "1 - age (numeric)\n",
    "2 - job : type of job (categorical: 'admin.','blue-collar','entrepreneur','housemaid','management','retired','self-employed','services','student','technician','unemployed','unknown')\n",
    "3 - marital : marital status (categorical: 'divorced','married','single','unknown'; note: 'divorced' means divorced or widowed)\n",
    "4 - education (categorical: 'basic.4y','basic.6y','basic.9y','high.school','illiterate','professional.course','university.degree','unknown')\n",
    "5 - default: has credit in default? (categorical: 'no','yes','unknown')\n",
    "6 - housing: has housing loan? (categorical: 'no','yes','unknown')\n",
    "7 - loan: has personal loan? (categorical: 'no','yes','unknown')\n",
    "##### related with the last contact of the current campaign:\n",
    "8 - contact: contact communication type (categorical: 'cellular','telephone') \n",
    "9 - month: last contact month of year (categorical: 'jan', 'feb', 'mar', ..., 'nov', 'dec')\n",
    "10 - day_of_week: last contact day of the week (categorical: 'mon','tue','wed','thu','fri')\n",
    "11 - duration: last contact duration, in seconds (numeric). Important note: this attribute highly affects the output target (e.g., if duration=0 then y='no'). Yet, the duration is not known before a call is performed. Also, after the end of the call y is obviously known. Thus, this input should only be included for benchmark purposes and should be discarded if the intention is to have a realistic predictive model.\n",
    "##### other attributes:\n",
    "12 - campaign: number of contacts performed during this campaign and for this client (numeric, includes last contact)\n",
    "13 - pdays: number of days that passed by after the client was last contacted from a previous campaign (numeric; 999 means client was not previously contacted)\n",
    "14 - previous: number of contacts performed before this campaign and for this client (numeric)\n",
    "15 - poutcome: outcome of the previous marketing campaign (categorical: 'failure','nonexistent','success')\n",
    "##### social and economic context attributes\n",
    "16 - emp.var.rate: employment variation rate - quarterly indicator (numeric)\n",
    "17 - cons.price.idx: consumer price index - monthly indicator (numeric) \n",
    "18 - cons.conf.idx: consumer confidence index - monthly indicator (numeric) \n",
    "19 - euribor3m: euribor 3 month rate - daily indicator (numeric)\n",
    "20 - nr.employed: number of employees - quarterly indicator (numeric)"
   ]
  },
  {
   "cell_type": "code",
   "execution_count": 1,
   "metadata": {},
   "outputs": [],
   "source": [
    "import pandas as pd\n",
    "import numpy as np\n",
    "import seaborn as sns\n",
    "import matplotlib.pyplot as plt\n",
    "%matplotlib inline"
   ]
  },
  {
   "cell_type": "code",
   "execution_count": 2,
   "metadata": {},
   "outputs": [],
   "source": [
    "train = pd.read_csv(\"bankdata.csv\")"
   ]
  },
  {
   "cell_type": "code",
   "execution_count": 3,
   "metadata": {},
   "outputs": [
    {
     "data": {
      "text/html": [
       "<div>\n",
       "<style scoped>\n",
       "    .dataframe tbody tr th:only-of-type {\n",
       "        vertical-align: middle;\n",
       "    }\n",
       "\n",
       "    .dataframe tbody tr th {\n",
       "        vertical-align: top;\n",
       "    }\n",
       "\n",
       "    .dataframe thead th {\n",
       "        text-align: right;\n",
       "    }\n",
       "</style>\n",
       "<table border=\"1\" class=\"dataframe\">\n",
       "  <thead>\n",
       "    <tr style=\"text-align: right;\">\n",
       "      <th></th>\n",
       "      <th>age</th>\n",
       "      <th>job</th>\n",
       "      <th>marital</th>\n",
       "      <th>education</th>\n",
       "      <th>default</th>\n",
       "      <th>housing</th>\n",
       "      <th>loan</th>\n",
       "      <th>contact</th>\n",
       "      <th>month</th>\n",
       "      <th>day_of_week</th>\n",
       "      <th>...</th>\n",
       "      <th>campaign</th>\n",
       "      <th>pdays</th>\n",
       "      <th>previous</th>\n",
       "      <th>poutcome</th>\n",
       "      <th>emp.var.rate</th>\n",
       "      <th>cons.price.idx</th>\n",
       "      <th>cons.conf.idx</th>\n",
       "      <th>euribor3m</th>\n",
       "      <th>nr.employed</th>\n",
       "      <th>y</th>\n",
       "    </tr>\n",
       "  </thead>\n",
       "  <tbody>\n",
       "    <tr>\n",
       "      <th>0</th>\n",
       "      <td>56</td>\n",
       "      <td>housemaid</td>\n",
       "      <td>married</td>\n",
       "      <td>basic.4y</td>\n",
       "      <td>no</td>\n",
       "      <td>no</td>\n",
       "      <td>no</td>\n",
       "      <td>telephone</td>\n",
       "      <td>may</td>\n",
       "      <td>mon</td>\n",
       "      <td>...</td>\n",
       "      <td>1</td>\n",
       "      <td>999</td>\n",
       "      <td>0</td>\n",
       "      <td>nonexistent</td>\n",
       "      <td>1.1</td>\n",
       "      <td>93.994</td>\n",
       "      <td>-36.4</td>\n",
       "      <td>4.857</td>\n",
       "      <td>5191.0</td>\n",
       "      <td>no</td>\n",
       "    </tr>\n",
       "    <tr>\n",
       "      <th>1</th>\n",
       "      <td>57</td>\n",
       "      <td>services</td>\n",
       "      <td>married</td>\n",
       "      <td>high.school</td>\n",
       "      <td>unknown</td>\n",
       "      <td>no</td>\n",
       "      <td>no</td>\n",
       "      <td>telephone</td>\n",
       "      <td>may</td>\n",
       "      <td>mon</td>\n",
       "      <td>...</td>\n",
       "      <td>1</td>\n",
       "      <td>999</td>\n",
       "      <td>0</td>\n",
       "      <td>nonexistent</td>\n",
       "      <td>1.1</td>\n",
       "      <td>93.994</td>\n",
       "      <td>-36.4</td>\n",
       "      <td>4.857</td>\n",
       "      <td>5191.0</td>\n",
       "      <td>no</td>\n",
       "    </tr>\n",
       "    <tr>\n",
       "      <th>2</th>\n",
       "      <td>37</td>\n",
       "      <td>services</td>\n",
       "      <td>married</td>\n",
       "      <td>high.school</td>\n",
       "      <td>no</td>\n",
       "      <td>yes</td>\n",
       "      <td>no</td>\n",
       "      <td>telephone</td>\n",
       "      <td>may</td>\n",
       "      <td>mon</td>\n",
       "      <td>...</td>\n",
       "      <td>1</td>\n",
       "      <td>999</td>\n",
       "      <td>0</td>\n",
       "      <td>nonexistent</td>\n",
       "      <td>1.1</td>\n",
       "      <td>93.994</td>\n",
       "      <td>-36.4</td>\n",
       "      <td>4.857</td>\n",
       "      <td>5191.0</td>\n",
       "      <td>no</td>\n",
       "    </tr>\n",
       "    <tr>\n",
       "      <th>3</th>\n",
       "      <td>40</td>\n",
       "      <td>admin.</td>\n",
       "      <td>married</td>\n",
       "      <td>basic.6y</td>\n",
       "      <td>no</td>\n",
       "      <td>no</td>\n",
       "      <td>no</td>\n",
       "      <td>telephone</td>\n",
       "      <td>may</td>\n",
       "      <td>mon</td>\n",
       "      <td>...</td>\n",
       "      <td>1</td>\n",
       "      <td>999</td>\n",
       "      <td>0</td>\n",
       "      <td>nonexistent</td>\n",
       "      <td>1.1</td>\n",
       "      <td>93.994</td>\n",
       "      <td>-36.4</td>\n",
       "      <td>4.857</td>\n",
       "      <td>5191.0</td>\n",
       "      <td>no</td>\n",
       "    </tr>\n",
       "    <tr>\n",
       "      <th>4</th>\n",
       "      <td>56</td>\n",
       "      <td>services</td>\n",
       "      <td>married</td>\n",
       "      <td>high.school</td>\n",
       "      <td>no</td>\n",
       "      <td>no</td>\n",
       "      <td>yes</td>\n",
       "      <td>telephone</td>\n",
       "      <td>may</td>\n",
       "      <td>mon</td>\n",
       "      <td>...</td>\n",
       "      <td>1</td>\n",
       "      <td>999</td>\n",
       "      <td>0</td>\n",
       "      <td>nonexistent</td>\n",
       "      <td>1.1</td>\n",
       "      <td>93.994</td>\n",
       "      <td>-36.4</td>\n",
       "      <td>4.857</td>\n",
       "      <td>5191.0</td>\n",
       "      <td>no</td>\n",
       "    </tr>\n",
       "  </tbody>\n",
       "</table>\n",
       "<p>5 rows × 21 columns</p>\n",
       "</div>"
      ],
      "text/plain": [
       "   age        job  marital    education  default housing loan    contact  \\\n",
       "0   56  housemaid  married     basic.4y       no      no   no  telephone   \n",
       "1   57   services  married  high.school  unknown      no   no  telephone   \n",
       "2   37   services  married  high.school       no     yes   no  telephone   \n",
       "3   40     admin.  married     basic.6y       no      no   no  telephone   \n",
       "4   56   services  married  high.school       no      no  yes  telephone   \n",
       "\n",
       "  month day_of_week ...  campaign  pdays  previous     poutcome emp.var.rate  \\\n",
       "0   may         mon ...         1    999         0  nonexistent          1.1   \n",
       "1   may         mon ...         1    999         0  nonexistent          1.1   \n",
       "2   may         mon ...         1    999         0  nonexistent          1.1   \n",
       "3   may         mon ...         1    999         0  nonexistent          1.1   \n",
       "4   may         mon ...         1    999         0  nonexistent          1.1   \n",
       "\n",
       "   cons.price.idx  cons.conf.idx  euribor3m  nr.employed   y  \n",
       "0          93.994          -36.4      4.857       5191.0  no  \n",
       "1          93.994          -36.4      4.857       5191.0  no  \n",
       "2          93.994          -36.4      4.857       5191.0  no  \n",
       "3          93.994          -36.4      4.857       5191.0  no  \n",
       "4          93.994          -36.4      4.857       5191.0  no  \n",
       "\n",
       "[5 rows x 21 columns]"
      ]
     },
     "execution_count": 3,
     "metadata": {},
     "output_type": "execute_result"
    }
   ],
   "source": [
    "train.head()"
   ]
  },
  {
   "cell_type": "code",
   "execution_count": 4,
   "metadata": {},
   "outputs": [
    {
     "data": {
      "text/plain": [
       "(41188, 21)"
      ]
     },
     "execution_count": 4,
     "metadata": {},
     "output_type": "execute_result"
    }
   ],
   "source": [
    "train.shape"
   ]
  },
  {
   "cell_type": "code",
   "execution_count": 5,
   "metadata": {},
   "outputs": [
    {
     "data": {
      "text/plain": [
       "Index(['age', 'job', 'marital', 'education', 'default', 'housing', 'loan',\n",
       "       'contact', 'month', 'day_of_week', 'duration', 'campaign', 'pdays',\n",
       "       'previous', 'poutcome', 'emp.var.rate', 'cons.price.idx',\n",
       "       'cons.conf.idx', 'euribor3m', 'nr.employed', 'y'],\n",
       "      dtype='object')"
      ]
     },
     "execution_count": 5,
     "metadata": {},
     "output_type": "execute_result"
    }
   ],
   "source": [
    "train.columns"
   ]
  },
  {
   "cell_type": "code",
   "execution_count": 6,
   "metadata": {},
   "outputs": [
    {
     "data": {
      "text/plain": [
       "age                 int64\n",
       "job                object\n",
       "marital            object\n",
       "education          object\n",
       "default            object\n",
       "housing            object\n",
       "loan               object\n",
       "contact            object\n",
       "month              object\n",
       "day_of_week        object\n",
       "duration            int64\n",
       "campaign            int64\n",
       "pdays               int64\n",
       "previous            int64\n",
       "poutcome           object\n",
       "emp.var.rate      float64\n",
       "cons.price.idx    float64\n",
       "cons.conf.idx     float64\n",
       "euribor3m         float64\n",
       "nr.employed       float64\n",
       "y                  object\n",
       "dtype: object"
      ]
     },
     "execution_count": 6,
     "metadata": {},
     "output_type": "execute_result"
    }
   ],
   "source": [
    "train.dtypes"
   ]
  },
  {
   "cell_type": "code",
   "execution_count": 7,
   "metadata": {},
   "outputs": [
    {
     "data": {
      "text/plain": [
       "age               0\n",
       "job               0\n",
       "marital           0\n",
       "education         0\n",
       "default           0\n",
       "housing           0\n",
       "loan              0\n",
       "contact           0\n",
       "month             0\n",
       "day_of_week       0\n",
       "duration          0\n",
       "campaign          0\n",
       "pdays             0\n",
       "previous          0\n",
       "poutcome          0\n",
       "emp.var.rate      0\n",
       "cons.price.idx    0\n",
       "cons.conf.idx     0\n",
       "euribor3m         0\n",
       "nr.employed       0\n",
       "y                 0\n",
       "dtype: int64"
      ]
     },
     "execution_count": 7,
     "metadata": {},
     "output_type": "execute_result"
    }
   ],
   "source": [
    "#checking if there any missing values in the dataset\n",
    "train.isnull().sum()"
   ]
  },
  {
   "cell_type": "code",
   "execution_count": 8,
   "metadata": {},
   "outputs": [
    {
     "name": "stdout",
     "output_type": "stream",
     "text": [
      "                      age   duration  campaign  pdays  previous  emp.var.rate  cons.price.idx  \\\n",
      "age             1.000e+00 -8.657e-04     0.005 -0.034     0.024    -3.707e-04       8.567e-04   \n",
      "duration       -8.657e-04  1.000e+00    -0.072 -0.048     0.021    -2.797e-02       5.312e-03   \n",
      "campaign        4.594e-03 -7.170e-02     1.000  0.053    -0.079     1.508e-01       1.278e-01   \n",
      "pdays          -3.437e-02 -4.758e-02     0.053  1.000    -0.588     2.710e-01       7.889e-02   \n",
      "previous        2.436e-02  2.064e-02    -0.079 -0.588     1.000    -4.205e-01      -2.031e-01   \n",
      "emp.var.rate   -3.707e-04 -2.797e-02     0.151  0.271    -0.420     1.000e+00       7.753e-01   \n",
      "cons.price.idx  8.567e-04  5.312e-03     0.128  0.079    -0.203     7.753e-01       1.000e+00   \n",
      "cons.conf.idx   1.294e-01 -8.173e-03    -0.014 -0.091    -0.051     1.960e-01       5.899e-02   \n",
      "euribor3m       1.077e-02 -3.290e-02     0.135  0.297    -0.454     9.722e-01       6.882e-01   \n",
      "nr.employed    -1.773e-02 -4.470e-02     0.144  0.373    -0.501     9.070e-01       5.220e-01   \n",
      "\n",
      "                cons.conf.idx  euribor3m  nr.employed  \n",
      "age                     0.129      0.011       -0.018  \n",
      "duration               -0.008     -0.033       -0.045  \n",
      "campaign               -0.014      0.135        0.144  \n",
      "pdays                  -0.091      0.297        0.373  \n",
      "previous               -0.051     -0.454       -0.501  \n",
      "emp.var.rate            0.196      0.972        0.907  \n",
      "cons.price.idx          0.059      0.688        0.522  \n",
      "cons.conf.idx           1.000      0.278        0.101  \n",
      "euribor3m               0.278      1.000        0.945  \n",
      "nr.employed             0.101      0.945        1.000  \n"
     ]
    }
   ],
   "source": [
    "from pandas import set_option\n",
    "correlation = train.corr()\n",
    "set_option('display.width', 100)\n",
    "set_option('precision', 3)\n",
    "print (correlation)"
   ]
  },
  {
   "cell_type": "code",
   "execution_count": 9,
   "metadata": {},
   "outputs": [
    {
     "data": {
      "image/png": "[encoded data removed]",
      "text/plain": [
       "<matplotlib.figure.Figure at 0x22babae8f28>"
      ]
     },
     "metadata": {},
     "output_type": "display_data"
    }
   ],
   "source": [
    "fig = plt.figure()\n",
    "ax = fig.add_subplot(111)\n",
    "cax = ax.matshow(correlation, vmin=-1, vmax=1)\n",
    "fig.colorbar(cax)\n",
    "plt.show()"
   ]
  },
  {
   "cell_type": "code",
   "execution_count": 10,
   "metadata": {},
   "outputs": [
    {
     "data": {
      "text/plain": [
       "no     36548\n",
       "yes     4640\n",
       "Name: y, dtype: int64"
      ]
     },
     "execution_count": 10,
     "metadata": {},
     "output_type": "execute_result"
    }
   ],
   "source": [
    "train.y.value_counts()"
   ]
  },
  {
   "cell_type": "code",
   "execution_count": 11,
   "metadata": {},
   "outputs": [
    {
     "data": {
      "text/plain": [
       "university.degree      12168\n",
       "high.school             9515\n",
       "basic.9y                6045\n",
       "professional.course     5243\n",
       "basic.4y                4176\n",
       "basic.6y                2292\n",
       "unknown                 1731\n",
       "illiterate                18\n",
       "Name: education, dtype: int64"
      ]
     },
     "execution_count": 11,
     "metadata": {},
     "output_type": "execute_result"
    }
   ],
   "source": [
    "train.education.value_counts()"
   ]
  },
  {
   "cell_type": "code",
   "execution_count": 12,
   "metadata": {},
   "outputs": [
    {
     "data": {
      "text/plain": [
       "nonexistent    35563\n",
       "failure         4252\n",
       "success         1373\n",
       "Name: poutcome, dtype: int64"
      ]
     },
     "execution_count": 12,
     "metadata": {},
     "output_type": "execute_result"
    }
   ],
   "source": [
    "train.poutcome.value_counts()"
   ]
  },
  {
   "cell_type": "code",
   "execution_count": 13,
   "metadata": {},
   "outputs": [
    {
     "data": {
      "text/plain": [
       "university.degree      12168\n",
       "high.school             9515\n",
       "basic.9y                6045\n",
       "professional.course     5243\n",
       "basic.4y                4176\n",
       "basic.6y                2292\n",
       "unknown                 1731\n",
       "illiterate                18\n",
       "Name: education, dtype: int64"
      ]
     },
     "execution_count": 13,
     "metadata": {},
     "output_type": "execute_result"
    }
   ],
   "source": [
    "train.education.value_counts()"
   ]
  },
  {
   "cell_type": "code",
   "execution_count": 14,
   "metadata": {},
   "outputs": [
    {
     "data": {
      "text/plain": [
       "university.degree      1670\n",
       "high.school            1031\n",
       "professional.course     595\n",
       "basic.9y                473\n",
       "basic.4y                428\n",
       "unknown                 251\n",
       "basic.6y                188\n",
       "illiterate                4\n",
       "Name: education, dtype: int64"
      ]
     },
     "execution_count": 14,
     "metadata": {},
     "output_type": "execute_result"
    }
   ],
   "source": [
    "train[train['y']== 'yes']['education'].value_counts()"
   ]
  },
  {
   "cell_type": "code",
   "execution_count": 15,
   "metadata": {},
   "outputs": [
    {
     "data": {
      "text/plain": [
       "admin.           1352\n",
       "technician        730\n",
       "blue-collar       638\n",
       "retired           434\n",
       "management        328\n",
       "services          323\n",
       "student           275\n",
       "self-employed     149\n",
       "unemployed        144\n",
       "entrepreneur      124\n",
       "housemaid         106\n",
       "unknown            37\n",
       "Name: job, dtype: int64"
      ]
     },
     "execution_count": 15,
     "metadata": {},
     "output_type": "execute_result"
    }
   ],
   "source": [
    "train[train['y']== 'yes']['job'].value_counts()"
   ]
  },
  {
   "cell_type": "code",
   "execution_count": 16,
   "metadata": {},
   "outputs": [
    {
     "data": {
      "text/plain": [
       "married     2532\n",
       "single      1620\n",
       "divorced     476\n",
       "unknown       12\n",
       "Name: marital, dtype: int64"
      ]
     },
     "execution_count": 16,
     "metadata": {},
     "output_type": "execute_result"
    }
   ],
   "source": [
    "train[train['y']== 'yes']['marital'].value_counts()"
   ]
  },
  {
   "cell_type": "code",
   "execution_count": 17,
   "metadata": {},
   "outputs": [
    {
     "data": {
      "text/plain": [
       "cellular     3853\n",
       "telephone     787\n",
       "Name: contact, dtype: int64"
      ]
     },
     "execution_count": 17,
     "metadata": {},
     "output_type": "execute_result"
    }
   ],
   "source": [
    "train[train['y']== 'yes']['contact'].value_counts()"
   ]
  },
  {
   "cell_type": "code",
   "execution_count": 18,
   "metadata": {},
   "outputs": [
    {
     "data": {
      "text/plain": [
       "university.degree      12168\n",
       "high.school             9515\n",
       "basic.9y                6045\n",
       "professional.course     5243\n",
       "basic.4y                4176\n",
       "basic.6y                2292\n",
       "unknown                 1731\n",
       "illiterate                18\n",
       "Name: education, dtype: int64"
      ]
     },
     "execution_count": 18,
     "metadata": {},
     "output_type": "execute_result"
    }
   ],
   "source": [
    "train.education.value_counts()"
   ]
  },
  {
   "cell_type": "code",
   "execution_count": 19,
   "metadata": {},
   "outputs": [],
   "source": [
    "#label encoding of  categorical features\n",
    "train['education']= train['education'].map({'basic.9y':0,'basic.6y':1,'basic.4y':2,'high.school':3,\n",
    "                                           'professional.course':4,'university.degree':5,\n",
    "                                           'unknown':6,'illiterate':7})\n",
    "train['job']= train['job'].map({'blue-collar':0,'services':1,'entrepreneur':2,'housemaid':3,\n",
    "                               'self-employed':4,'technician':5,'management':6,'unknown':7,\n",
    "                               'admin.':8,'unemployed':9,'retired':10,'student':11})\n",
    "train['marital']= train['marital'].map({'married':0,'divorced':1,'single':2,'unknown':3})\n",
    "train['poutcome']= train['poutcome'].map({'nonexistent':0, 'failure':1,'success':2})\n",
    "train['contact']= train['contact'].map({'telephone':0,'cellular':1})\n",
    "train['y']= train['y'].map({'yes':1,'no':0})"
   ]
  },
  {
   "cell_type": "code",
   "execution_count": 20,
   "metadata": {},
   "outputs": [
    {
     "data": {
      "text/plain": [
       "0    3\n",
       "1    1\n",
       "2    1\n",
       "3    8\n",
       "4    1\n",
       "Name: job, dtype: int64"
      ]
     },
     "execution_count": 20,
     "metadata": {},
     "output_type": "execute_result"
    }
   ],
   "source": [
    "train['job'].head()"
   ]
  },
  {
   "cell_type": "code",
   "execution_count": 21,
   "metadata": {},
   "outputs": [],
   "source": [
    "#one hot encoding\n",
    "num = train.loc[:,['age', 'duration','campaign','pdays','previous','emp.var.rate','cons.price.idx',   \n",
    "                   'cons.conf.idx','euribor3m','nr.employed','education','job','marital','poutcome',\n",
    "                  'contact','y']]\n",
    "cat = train.loc[:,['default','housing','loan','month',\n",
    "                  'day_of_week']]\n",
    "cat1= pd.get_dummies(cat, drop_first = True)"
   ]
  },
  {
   "cell_type": "code",
   "execution_count": 22,
   "metadata": {},
   "outputs": [
    {
     "data": {
      "text/plain": [
       "Index(['age', 'duration', 'campaign', 'pdays', 'previous', 'emp.var.rate', 'cons.price.idx',\n",
       "       'cons.conf.idx', 'euribor3m', 'nr.employed', 'education', 'job', 'marital', 'poutcome',\n",
       "       'contact', 'y', 'default_unknown', 'default_yes', 'housing_unknown', 'housing_yes',\n",
       "       'loan_unknown', 'loan_yes', 'month_aug', 'month_dec', 'month_jul', 'month_jun', 'month_mar',\n",
       "       'month_may', 'month_nov', 'month_oct', 'month_sep', 'day_of_week_mon', 'day_of_week_thu',\n",
       "       'day_of_week_tue', 'day_of_week_wed'],\n",
       "      dtype='object')"
      ]
     },
     "execution_count": 22,
     "metadata": {},
     "output_type": "execute_result"
    }
   ],
   "source": [
    "data_set = pd.concat([num, cat1], axis= 1)\n",
    "data_set.columns"
   ]
  },
  {
   "cell_type": "code",
   "execution_count": 23,
   "metadata": {},
   "outputs": [],
   "source": [
    "X = data_set.loc[:, data_set.columns != 'y']\n",
    "Y = data_set.loc[:, ['y']]"
   ]
  },
  {
   "cell_type": "code",
   "execution_count": 24,
   "metadata": {},
   "outputs": [
    {
     "name": "stderr",
     "output_type": "stream",
     "text": [
      "C:\\Users\\Asmita\\Anaconda3\\lib\\site-packages\\sklearn\\cross_validation.py:41: DeprecationWarning: This module was deprecated in version 0.18 in favor of the model_selection module into which all the refactored classes and functions are moved. Also note that the interface of the new CV iterators are different from that of this module. This module will be removed in 0.20.\n",
      "  \"This module will be removed in 0.20.\", DeprecationWarning)\n"
     ]
    },
    {
     "data": {
      "text/plain": [
       "((32950, 34), (8238, 34))"
      ]
     },
     "execution_count": 24,
     "metadata": {},
     "output_type": "execute_result"
    }
   ],
   "source": [
    "# Splitting the train_data into the Training set and Test set\n",
    "from sklearn.cross_validation import train_test_split\n",
    "X_train, X_test, Y_train, Y_test = train_test_split(X, Y, test_size = 0.2, random_state = 0)\n",
    "X_train.shape, X_test.shape"
   ]
  },
  {
   "cell_type": "code",
   "execution_count": 25,
   "metadata": {},
   "outputs": [],
   "source": [
    "import warnings\n",
    "warnings.filterwarnings('ignore')"
   ]
  },
  {
   "cell_type": "code",
   "execution_count": 26,
   "metadata": {},
   "outputs": [],
   "source": [
    "from sklearn.model_selection import KFold\n",
    "from sklearn.model_selection import cross_val_score\n",
    "from sklearn.model_selection import GridSearchCV\n",
    "from sklearn.metrics import confusion_matrix\n",
    "from sklearn.metrics import roc_auc_score\n",
    "from sklearn.metrics import accuracy_score\n",
    "from sklearn.metrics import f1_score\n",
    "from sklearn.pipeline import Pipeline\n",
    "from sklearn.linear_model import LogisticRegression\n",
    "from sklearn.tree import DecisionTreeClassifier\n",
    "from sklearn.neighbors import KNeighborsClassifier\n",
    "from sklearn.discriminant_analysis import LinearDiscriminantAnalysis\n",
    "from sklearn.naive_bayes import GaussianNB\n",
    "from sklearn.svm import SVC\n",
    "from sklearn.ensemble import AdaBoostClassifier\n",
    "from sklearn.ensemble import GradientBoostingClassifier\n",
    "from sklearn.ensemble import RandomForestClassifier\n",
    "from sklearn.ensemble import ExtraTreesClassifier\n",
    "from catboost import CatBoostClassifier\n",
    "from lightgbm import LGBMClassifier\n",
    "from xgboost import XGBClassifier"
   ]
  },
  {
   "cell_type": "code",
   "execution_count": 148,
   "metadata": {},
   "outputs": [],
   "source": [
    "models = []\n",
    "models.append(('LR', LogisticRegression()))\n",
    "models.append(('LDA', LinearDiscriminantAnalysis()))\n",
    "models.append(('KNN', KNeighborsClassifier()))\n",
    "models.append(('CART', DecisionTreeClassifier()))\n",
    "models.append(('NB', GaussianNB()))"
   ]
  },
  {
   "cell_type": "code",
   "execution_count": 150,
   "metadata": {},
   "outputs": [
    {
     "name": "stdout",
     "output_type": "stream",
     "text": [
      "Model Used : LR\n",
      "Cross Validation Score : 0.91\n",
      "Accuracy Score : 0.91\n",
      "f1 Score : 0.54\n",
      "Roc Auc Score : 0.71\n",
      "Confusion Matrix : [[7110  209]\n",
      " [ 502  417]]\n",
      "------------------------------------------------------------------------\n",
      "Model Used : LDA\n",
      "Cross Validation Score : 0.91\n",
      "Accuracy Score : 0.91\n",
      "f1 Score : 0.59\n",
      "Roc Auc Score : 0.75\n",
      "Confusion Matrix : [[7021  298]\n",
      " [ 413  506]]\n",
      "------------------------------------------------------------------------\n",
      "Model Used : KNN\n",
      "Cross Validation Score : 0.90\n",
      "Accuracy Score : 0.91\n",
      "f1 Score : 0.56\n",
      "Roc Auc Score : 0.74\n",
      "Confusion Matrix : [[7013  306]\n",
      " [ 445  474]]\n",
      "------------------------------------------------------------------------\n",
      "Model Used : CART\n",
      "Cross Validation Score : 0.89\n",
      "Accuracy Score : 0.89\n",
      "f1 Score : 0.52\n",
      "Roc Auc Score : 0.74\n",
      "Confusion Matrix : [[6842  477]\n",
      " [ 426  493]]\n",
      "------------------------------------------------------------------------\n",
      "Model Used : NB\n",
      "Cross Validation Score : 0.88\n",
      "Accuracy Score : 0.88\n",
      "f1 Score : 0.48\n",
      "Roc Auc Score : 0.71\n",
      "Confusion Matrix : [[6830  489]\n",
      " [ 477  442]]\n",
      "------------------------------------------------------------------------\n"
     ]
    }
   ],
   "source": [
    "for name, model in models :\n",
    "    kfold = KFold(n_splits=10,shuffle = False, random_state=100)\n",
    "    cv_results = cross_val_score(model, X_train, Y_train, cv=kfold, scoring='accuracy')\n",
    "    cv_result= cv_results.mean()\n",
    "    \n",
    "    model.fit(X_train, Y_train)\n",
    "    prediction= model.predict(X_test)\n",
    "    acc_score = accuracy_score(Y_test, prediction)\n",
    "    f1_sco = f1_score(Y_test, prediction)\n",
    "    auc_roc = roc_auc_score(Y_test, prediction)\n",
    "    con_matrix= confusion_matrix(Y_test, prediction)\n",
    "    \n",
    "    print (\"Model Used : {}\".format(name))\n",
    "    print (\"Cross Validation Score : {:.2f}\".format(cv_result))\n",
    "    print(\"Accuracy Score : {:.2f}\".format(acc_score))\n",
    "    print(\"f1 Score : {:.2f}\".format(f1_sco))\n",
    "    print(\"Roc Auc Score : {:.2f}\".format(auc_roc))\n",
    "    print(\"Confusion Matrix : {}\".format(con_matrix))\n",
    "    print(\"------------------------------------------------------------------------\")\n",
    "    "
   ]
  },
  {
   "cell_type": "code",
   "execution_count": 151,
   "metadata": {},
   "outputs": [],
   "source": [
    "models = []\n",
    "models.append(('ET', ExtraTreesClassifier()))\n",
    "models.append(('ADA', AdaBoostClassifier()))\n",
    "models.append(('GB', GradientBoostingClassifier()))\n",
    "models.append(('RFC', RandomForestClassifier()))\n",
    "models.append(('LGBM', LGBMClassifier()))\n",
    "models.append(('XGB', XGBClassifier()))"
   ]
  },
  {
   "cell_type": "code",
   "execution_count": 153,
   "metadata": {},
   "outputs": [
    {
     "name": "stdout",
     "output_type": "stream",
     "text": [
      "Model Used : ET\n",
      "Cross Validation Score : 0.90\n",
      "Accuracy Score : 0.90\n",
      "f1 Score : 0.47\n",
      "Roc Auc Score : 0.67\n",
      "Confusion Matrix : [[7110  209]\n",
      " [ 575  344]]\n",
      "------------------------------------------------------------------------\n",
      "Model Used : ADA\n",
      "Cross Validation Score : 0.91\n",
      "Accuracy Score : 0.92\n",
      "f1 Score : 0.54\n",
      "Roc Auc Score : 0.71\n",
      "Confusion Matrix : [[7122  197]\n",
      " [ 501  418]]\n",
      "------------------------------------------------------------------------\n",
      "Model Used : GB\n",
      "Cross Validation Score : 0.92\n",
      "Accuracy Score : 0.92\n",
      "f1 Score : 0.63\n",
      "Roc Auc Score : 0.77\n",
      "Confusion Matrix : [[7081  238]\n",
      " [ 392  527]]\n",
      "------------------------------------------------------------------------\n",
      "Model Used : RFC\n",
      "Cross Validation Score : 0.91\n",
      "Accuracy Score : 0.91\n",
      "f1 Score : 0.50\n",
      "Roc Auc Score : 0.69\n",
      "Confusion Matrix : [[7103  216]\n",
      " [ 542  377]]\n",
      "------------------------------------------------------------------------\n",
      "Model Used : LGBM\n",
      "Cross Validation Score : 0.92\n",
      "Accuracy Score : 0.92\n",
      "f1 Score : 0.63\n",
      "Roc Auc Score : 0.77\n",
      "Confusion Matrix : [[7063  256]\n",
      " [ 382  537]]\n",
      "------------------------------------------------------------------------\n",
      "Model Used : XGB\n",
      "Cross Validation Score : 0.92\n",
      "Accuracy Score : 0.92\n",
      "f1 Score : 0.61\n",
      "Roc Auc Score : 0.76\n",
      "Confusion Matrix : [[7093  226]\n",
      " [ 418  501]]\n",
      "------------------------------------------------------------------------\n"
     ]
    }
   ],
   "source": [
    "for name, model in models :\n",
    "     kfold = KFold(n_splits=10,shuffle = False, random_state=100)\n",
    "     cv_results = cross_val_score(model, X_train, Y_train, cv=kfold, scoring='accuracy')\n",
    "     cv_result= cv_results.mean()\n",
    "    \n",
    "     model.fit(X_train, Y_train)\n",
    "     prediction= model.predict(X_test)\n",
    "     acc_score = accuracy_score(Y_test, prediction)\n",
    "     f1_sco = f1_score(Y_test, prediction)\n",
    "     auc_roc = roc_auc_score(Y_test, prediction)\n",
    "     con_matrix= confusion_matrix(Y_test, prediction)\n",
    "    \n",
    "     print (\"Model Used : {}\".format(name))\n",
    "     print (\"Cross Validation Score : {:.2f}\".format(cv_result))\n",
    "     print(\"Accuracy Score : {:.2f}\".format(acc_score))\n",
    "     print(\"f1 Score : {:.2f}\".format(f1_sco))\n",
    "     print(\"Roc Auc Score : {:.2f}\".format(auc_roc))\n",
    "     print(\"Confusion Matrix : {}\".format(con_matrix))\n",
    "     print(\"------------------------------------------------------------------------\")\n",
    "    "
   ]
  },
  {
   "cell_type": "markdown",
   "metadata": {},
   "source": [
    "### Hyperparameter tuning of GBM and XGBoost"
   ]
  },
  {
   "cell_type": "code",
   "execution_count": 157,
   "metadata": {},
   "outputs": [
    {
     "name": "stdout",
     "output_type": "stream",
     "text": [
      "0.9151744868251145 {'n_estimators': 65}\n"
     ]
    }
   ],
   "source": [
    "parameters= {'n_estimators':range(20,81,5)}\n",
    "grid_search = GridSearchCV(estimator = GradientBoostingClassifier(learning_rate=0.1,\n",
    "            min_samples_split=500,min_samples_leaf=50,max_depth=8,max_features='sqrt',subsample=0.8,\n",
    "            random_state=10), param_grid = parameters, scoring='accuracy',n_jobs=4,iid=False, cv=10)\n",
    "grid_search = grid_search.fit(X_train, Y_train)\n",
    "best_accuracy = grid_search.best_score_\n",
    "best_parameter = grid_search.best_params_\n",
    "print(best_accuracy, best_parameter)"
   ]
  },
  {
   "cell_type": "code",
   "execution_count": 158,
   "metadata": {},
   "outputs": [
    {
     "data": {
      "text/plain": [
       "([mean: 0.91351, std: 0.00329, params: {'max_depth': 5, 'min_samples_split': 200},\n",
       "  mean: 0.91360, std: 0.00302, params: {'max_depth': 5, 'min_samples_split': 400},\n",
       "  mean: 0.91375, std: 0.00329, params: {'max_depth': 5, 'min_samples_split': 600},\n",
       "  mean: 0.91332, std: 0.00388, params: {'max_depth': 5, 'min_samples_split': 800},\n",
       "  mean: 0.91396, std: 0.00305, params: {'max_depth': 5, 'min_samples_split': 1000},\n",
       "  mean: 0.91475, std: 0.00402, params: {'max_depth': 7, 'min_samples_split': 200},\n",
       "  mean: 0.91572, std: 0.00437, params: {'max_depth': 7, 'min_samples_split': 400},\n",
       "  mean: 0.91436, std: 0.00371, params: {'max_depth': 7, 'min_samples_split': 600},\n",
       "  mean: 0.91487, std: 0.00404, params: {'max_depth': 7, 'min_samples_split': 800},\n",
       "  mean: 0.91490, std: 0.00303, params: {'max_depth': 7, 'min_samples_split': 1000},\n",
       "  mean: 0.91411, std: 0.00324, params: {'max_depth': 9, 'min_samples_split': 200},\n",
       "  mean: 0.91460, std: 0.00413, params: {'max_depth': 9, 'min_samples_split': 400},\n",
       "  mean: 0.91508, std: 0.00387, params: {'max_depth': 9, 'min_samples_split': 600},\n",
       "  mean: 0.91481, std: 0.00395, params: {'max_depth': 9, 'min_samples_split': 800},\n",
       "  mean: 0.91499, std: 0.00440, params: {'max_depth': 9, 'min_samples_split': 1000},\n",
       "  mean: 0.91505, std: 0.00441, params: {'max_depth': 11, 'min_samples_split': 200},\n",
       "  mean: 0.91487, std: 0.00398, params: {'max_depth': 11, 'min_samples_split': 400},\n",
       "  mean: 0.91472, std: 0.00338, params: {'max_depth': 11, 'min_samples_split': 600},\n",
       "  mean: 0.91581, std: 0.00339, params: {'max_depth': 11, 'min_samples_split': 800},\n",
       "  mean: 0.91472, std: 0.00322, params: {'max_depth': 11, 'min_samples_split': 1000},\n",
       "  mean: 0.91560, std: 0.00390, params: {'max_depth': 13, 'min_samples_split': 200},\n",
       "  mean: 0.91460, std: 0.00383, params: {'max_depth': 13, 'min_samples_split': 400},\n",
       "  mean: 0.91587, std: 0.00293, params: {'max_depth': 13, 'min_samples_split': 600},\n",
       "  mean: 0.91460, std: 0.00350, params: {'max_depth': 13, 'min_samples_split': 800},\n",
       "  mean: 0.91530, std: 0.00405, params: {'max_depth': 13, 'min_samples_split': 1000},\n",
       "  mean: 0.91478, std: 0.00347, params: {'max_depth': 15, 'min_samples_split': 200},\n",
       "  mean: 0.91499, std: 0.00342, params: {'max_depth': 15, 'min_samples_split': 400},\n",
       "  mean: 0.91511, std: 0.00427, params: {'max_depth': 15, 'min_samples_split': 600},\n",
       "  mean: 0.91405, std: 0.00369, params: {'max_depth': 15, 'min_samples_split': 800},\n",
       "  mean: 0.91481, std: 0.00390, params: {'max_depth': 15, 'min_samples_split': 1000}],\n",
       " {'max_depth': 13, 'min_samples_split': 600},\n",
       " 0.9158725971215264)"
      ]
     },
     "execution_count": 158,
     "metadata": {},
     "output_type": "execute_result"
    }
   ],
   "source": [
    "parameter2 = {'max_depth':range(5,16,2), 'min_samples_split':range(200,1001,200)}\n",
    "grid_search2 = GridSearchCV(estimator = GradientBoostingClassifier(learning_rate=0.1, n_estimators=65,\n",
    "                max_features='sqrt', subsample=0.8, random_state=10), param_grid = parameter2,\n",
    "                scoring='accuracy',n_jobs=4,iid=False, cv=10)\n",
    "grid_search2.fit(X_train,Y_train)\n",
    "grid_search2.grid_scores_, grid_search2.best_params_, grid_search2.best_score_"
   ]
  },
  {
   "cell_type": "code",
   "execution_count": null,
   "metadata": {},
   "outputs": [],
   "source": [
    "parameter3 = {'max_features':range(10,40,3), 'min_samples_leaf':range(30,71,10)}\n",
    "grid_search3 = GridSearchCV(estimator = GradientBoostingClassifier(learning_rate=0.1, n_estimators=65,\n",
    "                max_depth=13, subsample=0.8, random_state=10, min_samples_split = 600),\n",
    "               param_grid = parameter3, scoring='accuracy',n_jobs=4,iid=False, cv=10)\n",
    "grid_search3.fit(X_train, Y_train)\n",
    "grid_search3.grid_scores_, grid_search3.best_params_, grid_search3.best_score_"
   ]
  },
  {
   "cell_type": "code",
   "execution_count": 29,
   "metadata": {},
   "outputs": [
    {
     "name": "stdout",
     "output_type": "stream",
     "text": [
      "0.9180626365622724\n"
     ]
    }
   ],
   "source": [
    "xgb1 = XGBClassifier(\n",
    " learning_rate =0.1,\n",
    " n_estimators=1000,\n",
    " max_depth=5,\n",
    " min_child_weight=1,\n",
    " gamma=0,\n",
    " subsample=0.8,\n",
    " colsample_bytree=0.8,\n",
    " objective= 'binary:logistic',\n",
    " nthread=4,\n",
    " scale_pos_weight=1,\n",
    " seed=27)\n",
    "xgb1.fit(X_train, Y_train)\n",
    "prediction1 = xgb1.predict(X_test)\n",
    "accuracy = accuracy_score(Y_test, prediction1)\n",
    "print(accuracy)"
   ]
  },
  {
   "cell_type": "code",
   "execution_count": 30,
   "metadata": {},
   "outputs": [],
   "source": [
    "#read the submission file\n",
    "submission = pd.DataFrame({'Actual' : Y_test, 'predicted' : prediction1})"
   ]
  },
  {
   "cell_type": "code",
   "execution_count": 31,
   "metadata": {},
   "outputs": [],
   "source": [
    "submission['Actual']= submission['Actual'].map({0 :'No', 1:'Yes'})\n",
    "submission['predicted']= submission['predicted'].map({0 :'No', 1:'Yes'})"
   ]
  },
  {
   "cell_type": "code",
   "execution_count": 32,
   "metadata": {},
   "outputs": [],
   "source": [
    "submission.to_csv('predicted1.csv', index= False)"
   ]
  },
  {
   "cell_type": "code",
   "execution_count": null,
   "metadata": {},
   "outputs": [],
   "source": []
  }
 ],
 "metadata": {
  "kernelspec": {
   "display_name": "Python 3",
   "language": "python",
   "name": "python3"
  },
  "language_info": {
   "codemirror_mode": {
    "name": "ipython",
    "version": 3
   },
   "file_extension": ".py",
   "mimetype": "text/x-python",
   "name": "python",
   "nbconvert_exporter": "python",
   "pygments_lexer": "ipython3",
   "version": "3.6.4"
  }
 },
 "nbformat": 4,
 "nbformat_minor": 2
}
